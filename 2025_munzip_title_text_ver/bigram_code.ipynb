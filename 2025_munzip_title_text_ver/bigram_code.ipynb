import json
import re
import collections
import os
from pathlib import Path

def extract_hanja(text):
    """
    텍스트에서 한자(CJK Unified Ideographs)만 추출
    """
    # CJK Unified Ideographs 범위: U+4E00-U+9FFF
    hanja_pattern = re.compile(r'[\u4e00-\u9fff]')
    hanja_chars = hanja_pattern.findall(text)
    return ''.join(hanja_chars)

def generate_ngrams(text, n):
    """
    문자열로부터 n-그램 생성
    """
    return [text[i:i+n] for i in range(len(text) - n + 1)]

def process_text_file(file_path):
    """
    텍스트 파일 처리
    """
    try:
        with open(file_path, 'r', encoding='utf-8') as f:
            content = f.read()
    except UnicodeDecodeError:
        try:
            with open(file_path, 'r', encoding='cp949') as f:
                content = f.read()
        except Exception as e:
            print(f"파일 읽기 오류 ({file_path}): {e}")
            return collections.Counter()

    # 한자만 추출
    all_hanja = extract_hanja(content)

    if not all_hanja:
        print(f"'{file_path}'에서 한자를 찾을 수 없습니다.")
        return collections.Counter()

    print(f"'{file_path}' - 추출된 한자 수: {len(all_hanja)}")

    # 2-그램 생성
    bigrams = generate_ngrams(all_hanja, 2)

    if not bigrams:
        print(f"'{file_path}' - 생성된 2-그램이 없습니다.")
        return collections.Counter()

    # 빈도수 계산
    bigram_counts = collections.Counter(bigrams)

    return bigram_counts

def save_bigrams_to_file(bigram_counts, original_filename, output_filename):
    """각 문집별 2-그램 빈도수를 개별 파일로 저장"""
    if not bigram_counts:
        print(f"'{original_filename}' - 저장할 데이터가 없습니다.")
        return

    try:
        with open(output_filename, 'w', encoding='utf-8') as f:
            f.write(f"문집: {original_filename}\n")
            f.write(f"고유 바이그램 수: {len(bigram_counts)}\n")
            f.write(f"총 바이그램 빈도 합계: {sum(bigram_counts.values())}\n")
            f.write("-" * 50 + "\n")

            for bigram, count in bigram_counts.most_common():
                f.write(f"{bigram}: {count}\n")
        print(f"'{original_filename}' 결과가 '{output_filename}'에 저장되었습니다.")
    except Exception as e:
        print(f"파일 저장 오류 ({output_filename}): {e}")

def main():
    # 텍스트 파일들이 있는 디렉토리 경로 (현재 디렉토리로 설정)
    directory_path = '.'  # 현재 디렉토리, 필요시 경로 변경

    # 처리된 파일 수 카운트
    processed_files = 0

    # 디렉토리의 모든 .txt 파일 처리
    for filename in os.listdir(directory_path):
        if filename.endswith('.txt'):
            file_path = os.path.join(directory_path, filename)
            print(f"\n'{filename}' 파일 처리 중...")

            # 각 파일의 바이그램 처리
            file_bigram_counts = process_text_file(file_path)

            if file_bigram_counts:
                # 파일명에서 확장자 제거하고 바이그램 결과 파일명 생성
                base_filename = os.path.splitext(filename)[0]
                output_filename = f"{base_filename}_bigram_counts.txt"
                
                # 개별 파일로 저장
                save_bigrams_to_file(file_bigram_counts, filename, output_filename)
                
                processed_files += 1
                print(f"'{filename}' - 고유 바이그램 수: {len(file_bigram_counts)}")
                
                # 각 문집의 상위 10개 바이그램 콘솔 출력
                print(f"'{filename}' 상위 10개 바이그램:")
                for i, (bigram, count) in enumerate(file_bigram_counts.most_common(10), 1):
                    print(f"  {i:2d}. {bigram}: {count}")

    if processed_files == 0:
        print("처리할 .txt 파일을 찾을 수 없습니다.")
        return

    print(f"\n=== 전체 처리 완료 ===")
    print(f"처리된 문집 수: {processed_files}")
    print(f"각 문집별 바이그램 결과가 개별 파일로 저장되었습니다.")

if __name__ == "__main__":
    main()
